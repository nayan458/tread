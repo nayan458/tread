{
 "cells": [
  {
   "cell_type": "code",
   "execution_count": 3,
   "metadata": {},
   "outputs": [
    {
     "name": "stderr",
     "output_type": "stream",
     "text": [
      "\n",
      "[notice] A new release of pip is available: 24.3.1 -> 25.0.1\n",
      "[notice] To update, run: python.exe -m pip install --upgrade pip\n"
     ]
    },
    {
     "name": "stdout",
     "output_type": "stream",
     "text": [
      "Collecting pandas\n",
      "  Using cached pandas-2.2.3-cp312-cp312-win_amd64.whl.metadata (19 kB)\n",
      "Collecting numpy>=1.26.0 (from pandas)\n",
      "  Using cached numpy-2.2.3-cp312-cp312-win_amd64.whl.metadata (60 kB)\n",
      "Requirement already satisfied: python-dateutil>=2.8.2 in c:\\users\\nayan\\.virtualenvs\\django_website-fhakf1g3\\lib\\site-packages (from pandas) (2.9.0.post0)\n",
      "Collecting pytz>=2020.1 (from pandas)\n",
      "  Using cached pytz-2025.1-py2.py3-none-any.whl.metadata (22 kB)\n",
      "Requirement already satisfied: tzdata>=2022.7 in c:\\users\\nayan\\.virtualenvs\\django_website-fhakf1g3\\lib\\site-packages (from pandas) (2025.1)\n",
      "Requirement already satisfied: six>=1.5 in c:\\users\\nayan\\.virtualenvs\\django_website-fhakf1g3\\lib\\site-packages (from python-dateutil>=2.8.2->pandas) (1.17.0)\n",
      "Using cached pandas-2.2.3-cp312-cp312-win_amd64.whl (11.5 MB)\n",
      "Using cached numpy-2.2.3-cp312-cp312-win_amd64.whl (12.6 MB)\n",
      "Using cached pytz-2025.1-py2.py3-none-any.whl (507 kB)\n",
      "Installing collected packages: pytz, numpy, pandas\n",
      "Successfully installed numpy-2.2.3 pandas-2.2.3 pytz-2025.1\n",
      "Note: you may need to restart the kernel to use updated packages.\n"
     ]
    }
   ],
   "source": [
    "%pip install pandas\n",
    "import pandas as pd"
   ]
  },
  {
   "cell_type": "code",
   "execution_count": null,
   "metadata": {},
   "outputs": [
    {
     "name": "stdout",
     "output_type": "stream",
     "text": [
      "Pickle file loaded successfully!\n"
     ]
    },
    {
     "data": {
      "text/html": [
       "<div>\n",
       "<style scoped>\n",
       "    .dataframe tbody tr th:only-of-type {\n",
       "        vertical-align: middle;\n",
       "    }\n",
       "\n",
       "    .dataframe tbody tr th {\n",
       "        vertical-align: top;\n",
       "    }\n",
       "\n",
       "    .dataframe thead th {\n",
       "        text-align: right;\n",
       "    }\n",
       "</style>\n",
       "<table border=\"1\" class=\"dataframe\">\n",
       "  <thead>\n",
       "    <tr style=\"text-align: right;\">\n",
       "      <th></th>\n",
       "      <th>uniprotid</th>\n",
       "      <th>genename</th>\n",
       "      <th>uniprotname</th>\n",
       "      <th>proteinname</th>\n",
       "      <th>disorders</th>\n",
       "      <th>references</th>\n",
       "    </tr>\n",
       "  </thead>\n",
       "  <tbody>\n",
       "    <tr>\n",
       "      <th>0</th>\n",
       "      <td>P15289</td>\n",
       "      <td>ARSA</td>\n",
       "      <td>ARSA_HUMAN</td>\n",
       "      <td>Arylsulfatase A</td>\n",
       "      <td>[-]</td>\n",
       "      <td>[28007376]</td>\n",
       "    </tr>\n",
       "    <tr>\n",
       "      <th>1</th>\n",
       "      <td>Q12887</td>\n",
       "      <td>COX10</td>\n",
       "      <td>COX10_HUMAN</td>\n",
       "      <td>Protoheme IX farnesyltransferase, mitochondrial</td>\n",
       "      <td>[-]</td>\n",
       "      <td>[28007376]</td>\n",
       "    </tr>\n",
       "    <tr>\n",
       "      <th>2</th>\n",
       "      <td>P02649</td>\n",
       "      <td>APOE</td>\n",
       "      <td>APOE_HUMAN</td>\n",
       "      <td>Apolipoprotein E</td>\n",
       "      <td>[-]</td>\n",
       "      <td>[28007376]</td>\n",
       "    </tr>\n",
       "    <tr>\n",
       "      <th>3</th>\n",
       "      <td>Q9UHK6</td>\n",
       "      <td>AMACR</td>\n",
       "      <td>AMACR_HUMAN</td>\n",
       "      <td>Alpha-methylacyl-CoA racemase</td>\n",
       "      <td>[-]</td>\n",
       "      <td>[28007376]</td>\n",
       "    </tr>\n",
       "    <tr>\n",
       "      <th>4</th>\n",
       "      <td>Q8TD86</td>\n",
       "      <td>CALML6</td>\n",
       "      <td>CALL6_HUMAN</td>\n",
       "      <td>Calmodulin-like protein 6</td>\n",
       "      <td>[-]</td>\n",
       "      <td>[28255556]</td>\n",
       "    </tr>\n",
       "  </tbody>\n",
       "</table>\n",
       "</div>"
      ],
      "text/plain": [
       "  uniprotid genename  uniprotname  \\\n",
       "0    P15289     ARSA   ARSA_HUMAN   \n",
       "1    Q12887    COX10  COX10_HUMAN   \n",
       "2    P02649     APOE   APOE_HUMAN   \n",
       "3    Q9UHK6    AMACR  AMACR_HUMAN   \n",
       "4    Q8TD86   CALML6  CALL6_HUMAN   \n",
       "\n",
       "                                       proteinname disorders  references  \n",
       "0                                  Arylsulfatase A       [-]  [28007376]  \n",
       "1  Protoheme IX farnesyltransferase, mitochondrial       [-]  [28007376]  \n",
       "2                                 Apolipoprotein E       [-]  [28007376]  \n",
       "3                    Alpha-methylacyl-CoA racemase       [-]  [28007376]  \n",
       "4                        Calmodulin-like protein 6       [-]  [28255556]  "
      ]
     },
     "metadata": {},
     "output_type": "display_data"
    }
   ],
   "source": [
    "import os\n",
    "\n",
    "# Define the file path\n",
    "file_path = r\"D:\\git\\cdac\\django_website\\epilepsy\\pickle_files\\Epilepsy_Associated_genes_with_all_information_Carpe_DB_and_Disorder_data_Updated__new_genes.pkl\"\n",
    "\n",
    "# Check if the file exists before reading\n",
    "if os.path.exists(file_path):\n",
    "    try:\n",
    "        e_a_genes = pd.read_pickle(file_path)\n",
    "        print(\"Pickle file loaded successfully!\")\n",
    "    except Exception as e:\n",
    "        print(f\"Error loading pickle file: {e}\")\n",
    "else:\n",
    "    print(f\"File not found: {file_path}\")\n",
    "\n",
    "# Display the first few rows (if DataFrame)\n",
    "if isinstance(e_a_genes, pd.DataFrame):\n",
    "    display(e_a_genes.head())  # Use display() in Jupyter Notebook for better output\n",
    "else:\n",
    "    print(type(e_a_genes))  # Print the type if it's not a DataFrame\n"
   ]
  },
  {
   "cell_type": "code",
   "execution_count": 10,
   "metadata": {},
   "outputs": [],
   "source": [
    "import pickle\n",
    "import json\n",
    "import pandas as pd\n",
    "\n",
    "pickle_file_path = \"D:\\\\git\\\\cdac\\\\django_website\\\\epilepsy\\\\pickle_files\\\\Epilepsy_Associated_genes_with_all_information_Carpe_DB_and_Disorder_data_Updated__new_genes.pkl\"\n",
    "json_file_output = \"D:\\\\git\\\\cdac\\\\django_website\\\\epilepsy\\\\pickle_files\\\\output\\\\output.json\"\n",
    "csv_file_output = \"D:\\\\git\\\\cdac\\\\django_website\\\\epilepsy\\\\pickle_files\\\\output\\\\output.csv\"\n",
    "\n",
    "# Load the pickle file\n",
    "with open(pickle_file_path, 'rb') as pickle_file:\n",
    "    data = pickle.load(pickle_file)\n",
    "\n",
    "# For JSON: Convert DataFrame to dictionary first\n",
    "if isinstance(data, pd.DataFrame):\n",
    "    # Convert to JSON\n",
    "    with open(json_file_output, 'w') as json_file:\n",
    "        json.dump(data.to_dict(orient='records'), json_file, indent=4)\n",
    "    \n",
    "    # Also save as CSV since you defined that path\n",
    "    data.to_csv(csv_file_output, index=False)\n",
    "else:\n",
    "    print(\"The pickle file contains a non-DataFrame object\")"
   ]
  },
  {
   "cell_type": "code",
   "execution_count": null,
   "metadata": {},
   "outputs": [],
   "source": []
  }
 ],
 "metadata": {
  "kernelspec": {
   "display_name": "django_website-Fhakf1g3",
   "language": "python",
   "name": "python3"
  },
  "language_info": {
   "codemirror_mode": {
    "name": "ipython",
    "version": 3
   },
   "file_extension": ".py",
   "mimetype": "text/x-python",
   "name": "python",
   "nbconvert_exporter": "python",
   "pygments_lexer": "ipython3",
   "version": "3.12.9"
  }
 },
 "nbformat": 4,
 "nbformat_minor": 2
}
